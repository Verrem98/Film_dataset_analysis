{
 "cells": [
  {
   "cell_type": "code",
   "execution_count": 280,
   "metadata": {},
   "outputs": [],
   "source": [
    "import numpy as np\n",
    "import pandas as pd\n",
    "import matplotlib.pyplot as plt\n",
    "from sklearn import linear_model\n",
    "from scipy.stats import pearsonr\n",
    "\n",
    "#the film database from the assignment\n",
    "table = pd.read_csv(\"movie.csv\")\n",
    "\n",
    "#film database we found online(https://www.kaggle.com/stefanoleone992/imdb-extensive-dataset)\n",
    "table2 =  pd.read_csv(\"IMDB_movies.csv\")\n"
   ]
  },
  {
   "cell_type": "markdown",
   "metadata": {},
   "source": [
    "<h2>Onderzoeksvragen:</h2>\n",
    "\n",
    "1. In hoeverre is de omzet van een film te voorspellen op basis van de populariteit op Facebook en IMDB?\n",
    "2. In hoeverre is de IMDB score van een film te voorspellen op basis van het budget en de opbrengst?\n",
    "3. Kunnen we logische klusters vinden van regisseurs die winstgevende films maken of regisseurs die vaak verliesgevende films maken?"
   ]
  },
  {
   "cell_type": "markdown",
   "metadata": {
    "pycharm": {
     "name": "#%% md\n"
    }
   },
   "source": [
    "<h1> Featurevariabelen: </h1>\n",
    "\n",
    "We hebben een aantal featurevariabelen gekozen die passen bij onze onderzoeksvragen. Het zou altijd nog kunnen dat we bepaalde variabelen toevoegen of weglaten, maar dit is onze eerste selectie.\n",
    "\n",
    "director_name: een nominale meetwaarde waarin de naam van de regisseur staat.\n",
    " \n",
    "num_voted_users: een discrete meetwaarde die ons laat zien hoeveel mensen op een film hebben gestemd op IMDb.\n",
    "\n",
    "num_critic_for_reviews: een discrete meetwaarde die ons laat zien hoeveel critici een film hebben gerecenseerd.\n",
    "\n",
    "num_user_for_reviews: een discrete meetwaarde die ons laat zien hoeveel IMDb gebruikers een film hebben gerecenseerd.\n",
    "\n",
    "imdb_score: een discrete meetwaarde die de score van een film weergeeft.\n",
    "\n",
    "movie_facebook_likes is een discrete meetwaarde die de hoeveelheid likes die een film op facebook heeft weergeeft.\n",
    "\n",
    "budget: een continue meetwaarde die aangeeft hoeveel geld er is besteed aan het produceren van een film.\n",
    "\n",
    "gross: een continue meetwaarde die aangeeft hoeveel omzet een film heeft gedraaid.\n"
   ]
  },
  {
   "cell_type": "markdown",
   "metadata": {
    "pycharm": {
     "name": "#%% md\n"
    }
   },
   "source": [
    "<h2> Table merge process </h2>\n",
    "\n",
    "\n",
    "\n",
    "Voor dit project hebben wij een tweede dataset gevonden op Kaggle (https://www.kaggle.com/stefanoleone992/imdb-extensive-dataset) met IMDb data. Die gaan we in het onderstaande codeblock samenvoegen met de gegeven database.\n",
    "\n",
    "Daarvoor moeten we een aantal dingen doen. De eerste stap is om in de 2e tabel de kolom \"movie_facebook_likes\" toe te voegen en te vullen met NaNs, dat maakt het samenvoegen van de twee tabellen makkelijker.\n",
    "\n",
    "Vervolgens zorgen we ervoor dat beide tabellen voor dezelfde informatie ook dezelfde colomnamen gebruiken. \n",
    "\n",
    "We gebruiken de IMDb ID als index. In de gegeven database is dit een ID, maar in onze database is het een link waar de ID in zit. Die trimmen we om de ID te extraheren. \n",
    "\n",
    "Als we dat hebben gedaan voegen we de twee databases samen en verwijderen dubbele waardes."
   ]
  },
  {
   "cell_type": "markdown",
   "metadata": {
    "pycharm": {
     "name": "#%% md\n"
    }
   },
   "source": [
    "<h2> Table merge process </h2>"
   ]
  },
  {
   "cell_type": "code",
   "execution_count": 406,
   "metadata": {
    "scrolled": true
   },
   "outputs": [
    {
     "name": "stderr",
     "output_type": "stream",
     "text": [
      "C:\\Users\\emiel\\AppData\\Local\\Temp/ipykernel_4040/3986309575.py:10: SettingWithCopyWarning: \n",
      "A value is trying to be set on a copy of a slice from a DataFrame.\n",
      "Try using .loc[row_indexer,col_indexer] = value instead\n",
      "\n",
      "See the caveats in the documentation: https://pandas.pydata.org/pandas-docs/stable/user_guide/indexing.html#returning-a-view-versus-a-copy\n",
      "  feature_table[\"movie_imdb_link\"]= feature_table[\"movie_imdb_link\"].str.split(\"/\", n = 5, expand = True)[4]\n"
     ]
    }
   ],
   "source": [
    "# the second data set has no facebook_likes so we create an empty column\n",
    "table2['movie_facebook_likes'] = np.NaN\n",
    "\n",
    "#trim both tables so we only have \n",
    "feature_table = table[['movie_title','duration', 'movie_imdb_link', 'num_voted_users', 'num_critic_for_reviews', 'num_user_for_reviews','imdb_score', 'movie_facebook_likes','budget', 'gross', 'director_name']]\n",
    "feature_table2 = table2[['original_title', 'duration', 'imdb_title_id', 'votes', 'reviews_from_critics', 'reviews_from_users', 'avg_vote','movie_facebook_likes', 'budget','worlwide_gross_income', 'director' ]]\n",
    "\n",
    "\n",
    "# change the movie_imdb_link to a imdb_title_id\n",
    "feature_table[\"movie_imdb_link\"]= feature_table[\"movie_imdb_link\"].str.split(\"/\", n = 5, expand = True)[4]\n",
    "feature_table = feature_table.rename(columns={\"movie_imdb_link\": \"imdb_title_id\"})\n",
    "\n",
    "#change the names of the columns of the second table to corresponding collumn names of the first table\n",
    "feature_table2 = feature_table2.rename(columns={\"avg_vote\": \"imdb_score\", 'original_title':'movie_title', 'votes':'num_voted_users', 'worlwide_gross_income':'gross', 'reviews_from_critics': 'num_critic_for_reviews', 'reviews_from_users': 'num_user_for_reviews', 'director':'director_name'})\n",
    "\n",
    "#append table2 to table\n",
    "new_df = feature_table.append(feature_table2)\n",
    "\n",
    "#remove duplicates from the merged tables\n",
    "new_df.drop_duplicates(subset =\"imdb_title_id\",\n",
    "                     keep = 'first', inplace = True)\n",
    "\n",
    "# the gross and budget in the second table are in a different format so we need to come up with something to fix those\n",
    "#set([str(x)[0] for x in new_df['gross']]) \n",
    "forbidden_chars = ['G', 'I', 'N', 'P', 'n']\n"
   ]
  },
  {
   "cell_type": "markdown",
   "metadata": {
    "pycharm": {
     "name": "#%% md\n"
    }
   },
   "source": [
    "<h2> frequency of rounded imdb_scores in the database </h2>"
   ]
  },
  {
   "cell_type": "code",
   "execution_count": 391,
   "metadata": {},
   "outputs": [
    {
     "data": {
      "image/png": "[encoded data removed]",
      "text/plain": [
       "<Figure size 432x288 with 1 Axes>"
      ]
     },
     "metadata": {
      "needs_background": "light"
     },
     "output_type": "display_data"
    }
   ],
   "source": [
    "\n",
    "rounded_ratings = [round(x) for x in table.imdb_score]\n",
    "\n",
    "x = [i+1 for i in range(10)]\n",
    "y = [rounded_ratings.count(i) for i in x]\n",
    "\n",
    "#x = table.imdb_score.value_counts().keys()\n",
    "#y = table.imdb_score.value_counts().values\n",
    "\n",
    "fig = plt.figure()\n",
    "ax = fig.add_axes([0,0,1,1])\n",
    "\n",
    "plt.xlabel('rounded imdb_scores')\n",
    "plt.ylabel('frequency')\n",
    "\n",
    "ax.bar(x,y)\n",
    "plt.xticks(np.arange(0, 11, 1.0))\n",
    "plt.show()"
   ]
  },
  {
   "cell_type": "code",
   "execution_count": null,
   "metadata": {
    "pycharm": {
     "name": "#%%\n"
    }
   },
   "outputs": [],
   "source": []
  },
  {
   "cell_type": "markdown",
   "metadata": {
    "pycharm": {
     "name": "#%% md\n"
    }
   },
   "source": [
    "<h2> imdb_score vs movie_gross </h2>"
   ]
  },
  {
   "cell_type": "code",
   "execution_count": 350,
   "metadata": {},
   "outputs": [
    {
     "data": {
      "image/png": "[encoded data removed]",
      "text/plain": [
       "<Figure size 432x288 with 1 Axes>"
      ]
     },
     "metadata": {
      "needs_background": "light"
     },
     "output_type": "display_data"
    }
   ],
   "source": [
    "table = table.dropna()\n",
    "\n",
    "x = table[['imdb_score']]\n",
    "y = table[['gross']]\n",
    "\n",
    "plt.xlabel('movie IMDB rating')\n",
    "plt.ylabel('movie gross')\n",
    "\n",
    "lm = linear_model.LinearRegression()\n",
    "lm.fit(x, y)\n",
    "\n",
    "\n",
    "pX = pd.DataFrame([1,2,3,4,5,6,7,8,9,10])\n",
    "\n",
    "\n",
    "plt.plot([1,2,3,4,5,6,7,8,9,10],lm.predict(pX),\n",
    "        marker='.', markerfacecolor='red', markersize=10, color = 'red')\n",
    "plt.xticks(np.arange(0, 11, 1.0))\n",
    "\n",
    "\n",
    "plt.scatter(x, y, s = .5)\n",
    "plt.show()"
   ]
  },
  {
   "cell_type": "markdown",
   "metadata": {
    "pycharm": {
     "name": "#%% md\n"
    }
   },
   "source": [
    "<h2> movie_facebook_likes vs movie_gross </h2>"
   ]
  },
  {
   "cell_type": "code",
   "execution_count": 388,
   "metadata": {},
   "outputs": [
    {
     "name": "stdout",
     "output_type": "stream",
     "text": [
      "349000\n"
     ]
    },
    {
     "data": {
      "image/png": "[encoded data removed]",
      "text/plain": [
       "<Figure size 432x288 with 1 Axes>"
      ]
     },
     "metadata": {
      "needs_background": "light"
     },
     "output_type": "display_data"
    }
   ],
   "source": [
    "table = table.dropna()\n",
    "\n",
    "x = table[['movie_facebook_likes']]\n",
    "y = table[['gross']]\n",
    "\n",
    "plt.xlabel('movie_facebook_likes')\n",
    "plt.ylabel('movie_gross')\n",
    "\n",
    "\n",
    "lm = linear_model.LinearRegression()\n",
    "lm.fit(x, y)\n",
    "plt.xlim(0,200000)\n",
    "\n",
    "plt.scatter(x, y, s = .5)\n",
    "plt.show()"
   ]
  },
  {
   "cell_type": "markdown",
   "metadata": {
    "pycharm": {
     "name": "#%% md\n"
    }
   },
   "source": [
    "<h2> imdb_score vs movie_budget </h2>"
   ]
  },
  {
   "cell_type": "code",
   "execution_count": 399,
   "metadata": {},
   "outputs": [
    {
     "data": {
      "image/png": "[encoded data removed]",
      "text/plain": [
       "<Figure size 432x288 with 1 Axes>"
      ]
     },
     "metadata": {
      "needs_background": "light"
     },
     "output_type": "display_data"
    }
   ],
   "source": [
    "table = table.dropna()\n",
    "\n",
    "x = table[['imdb_score']]\n",
    "y = table[['budget']]\n",
    "\n",
    "plt.xlabel('movie IMDB rating')\n",
    "plt.ylabel('movie budget')\n",
    "\n",
    "\n",
    "plt.ylim(0,800000000)\n",
    "\n",
    "lm = linear_model.LinearRegression()\n",
    "lm.fit(x, y)\n",
    "\n",
    "\n",
    "pX = pd.DataFrame([1,2,3,4,5,6,7,8,9,10])\n",
    "\n",
    "\n",
    "plt.plot([1,2,3,4,5,6,7,8,9,10],lm.predict(pX),\n",
    "        marker='.', markerfacecolor='red', markersize=10, color = 'red')\n",
    "plt.xticks(np.arange(0, 11, 1.0))\n",
    "\n",
    "\n",
    "plt.scatter(x, y, s = .5)\n",
    "plt.show()"
   ]
  },
  {
   "cell_type": "markdown",
   "metadata": {
    "pycharm": {
     "name": "#%%\n"
    }
   },
   "source": [
    "<h1> Featurevariabelen: </h1>\n",
    "\n",
    "    \n",
    "\n",
    "\n",
    "\n",
    "\n",
    "\n",
    "\n",
    "\n",
    "    "
   ]
  },
  {
   "cell_type": "code",
   "execution_count": null,
   "outputs": [],
   "source": [
    "num_voted_users: Discreet\n",
    "\n",
    "num_critic_for_reviews: Discreet\n",
    "\n",
    "num_user_for_reviews: Discreet\n",
    "\n",
    "budget: Continu\n",
    "\n",
    "imdb_score: Discreet\n",
    "\n",
    "movie_facebook_likes: Discreet\n",
    "\n",
    "gross: Continu\n",
    "\n",
    "director: Nominaal\n",
    "\n",
    "    "
   ],
   "metadata": {
    "collapsed": false,
    "pycharm": {
     "name": "#%%\n"
    }
   }
  },
  {
   "cell_type": "markdown",
   "metadata": {
    "pycharm": {
     "name": "#%%\n"
    }
   },
   "source": [
    "<h2> Correlation between columns and movie gross: </h2>"
   ]
  },
  {
   "cell_type": "markdown",
   "metadata": {},
   "source": [
    "<h2> Correlation between columns and movie gross: </h2>"
   ]
  },
  {
   "cell_type": "code",
   "execution_count": 88,
   "metadata": {
    "scrolled": false
   },
   "outputs": [
    {
     "name": "stdout",
     "output_type": "stream",
     "text": [
      "num_voted_users: 0.6249487454565548\n",
      "num_critic_for_reviews: 0.4641870340045625\n",
      "duration: 0.2457261977705955\n",
      "director_facebook_likes: 0.1383505899808125\n",
      "actor_3_facebook_likes: 0.29986381633000814\n",
      "actor_1_facebook_likes: 0.1440095703653353\n",
      "gross: 1.0\n",
      "num_user_for_reviews: 0.544673830198518\n",
      "budget: 0.099496423270246\n",
      "title_year: 0.05480795298930051\n",
      "actor_2_facebook_likes: 0.2528419264768792\n",
      "imdb_score: 0.21473971217602245\n",
      "aspect_ratio: 0.06394585497812032\n",
      "movie_facebook_likes: 0.3669326605067953\n"
     ]
    }
   ],
   "source": [
    "table = table.dropna()\n",
    "\n",
    "l = ['num_voted_users','num_critic_for_reviews', 'duration', 'director_facebook_likes', 'actor_3_facebook_likes', 'actor_1_facebook_likes', 'gross', 'num_user_for_reviews', 'budget', 'title_year', 'actor_2_facebook_likes', 'imdb_score', 'aspect_ratio', 'movie_facebook_likes']\n",
    "\n",
    "\n",
    "for col in l:\n",
    "    print(f\"{col}: {pearsonr(table[col], table.gross)[0]}\")\n"
   ]
  }
 ],
 "metadata": {
  "kernelspec": {
   "display_name": "Python 3 (ipykernel)",
   "language": "python",
   "name": "python3"
  },
  "language_info": {
   "codemirror_mode": {
    "name": "ipython",
    "version": 3
   },
   "file_extension": ".py",
   "mimetype": "text/x-python",
   "name": "python",
   "nbconvert_exporter": "python",
   "pygments_lexer": "ipython3",
   "version": "3.8.5"
  }
 },
 "nbformat": 4,
 "nbformat_minor": 1
}
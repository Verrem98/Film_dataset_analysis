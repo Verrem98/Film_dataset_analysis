{
 "cells": [
  {
   "cell_type": "markdown",
   "metadata": {
    "pycharm": {
     "name": "#%% md\n"
    }
   },
   "source": [
    "Door Dennis Besselsen, Levi Verhoef, Emiel Verhoef (geen familie!)\n",
    "V2A, 2021 "
   ]
  },
  {
   "cell_type": "markdown",
   "metadata": {},
   "source": [
    "We beginnen met het importeren van een aantal libraries:"
   ]
  },
  {
   "cell_type": "code",
   "execution_count": 1,
   "metadata": {
    "pycharm": {
     "name": "#%%\n"
    }
   },
   "outputs": [],
   "source": [
    "import numpy as np\n",
    "import pandas as pd\n",
    "import matplotlib.pyplot as plt\n",
    "from sklearn import linear_model\n",
    "from scipy.stats import pearsonr\n",
    "from scipy.stats import stats\n"
   ]
  },
  {
   "cell_type": "markdown",
   "metadata": {},
   "source": [
    "Hier lezen we onze beide databases alvast in:"
   ]
  },
  {
   "cell_type": "code",
   "execution_count": 2,
   "metadata": {},
   "outputs": [
    {
     "name": "stderr",
     "output_type": "stream",
     "text": [
      "C:\\Users\\emiel\\venv\\lib\\site-packages\\IPython\\core\\interactiveshell.py:3169: DtypeWarning: Columns (3) have mixed types.Specify dtype option on import or set low_memory=False.\n",
      "  has_raised = await self.run_ast_nodes(code_ast.body, cell_name,\n"
     ]
    }
   ],
   "source": [
    "#the film database from the assignment\n",
    "table = pd.read_csv(\"movie.csv\")\n",
    "\n",
    "#film database we found online(https://www.kaggle.com/stefanoleone992/imdb-extensive-dataset)\n",
    "table2 =  pd.read_csv(\"IMDB_movies.csv\", low_memory = False)\n"
   ]
  },
  {
   "cell_type": "markdown",
   "metadata": {},
   "source": [
    "<h2>Onderzoeksvragen:</h2>\n",
    "\n",
    "1. In hoeverre is de omzet van een film te voorspellen op basis van de populariteit op Facebook en IMDB?\n",
    "2. In hoeverre is de IMDB score van een film te voorspellen op basis van het budget en de opbrengst?\n",
    "3. Kunnen we logische klusters vinden van regisseurs die winstgevende films maken of regisseurs die vaak verliesgevende films maken?"
   ]
  },
  {
   "cell_type": "markdown",
   "metadata": {
    "pycharm": {
     "name": "#%% md\n"
    }
   },
   "source": [
    "<h1> Featurevariabelen: </h1>\n",
    "We hebben een aantal featurevariabelen gekozen die passen bij onze onderzoeksvragen. Het zou altijd nog kunnen dat we bepaalde variabelen toevoegen of weglaten, maar dit is onze eerste selectie.\n",
    "\n",
    "**director_name**: een **nominale meetwaarde** waarin de naam van de regisseur staat.\n",
    "Director name heeft af en toe geen ingevulde waarde. Dat maakt voor onze onderzoeksvragen niet veel uit.\n",
    "\n",
    "**num_voted_users**: een **discrete meetwaarde** die ons laat zien hoeveel mensen op een film hebben gestemd op IMDb.\n",
    "Deze featurevariabele gebruiken we als één van onze maatstaven voor IMDb populariteit. Hoe meer mensen stemmen op een film, hoe hoger de populariteit. \n",
    "Dit is direct een handige variabele voor onze eerste onderzoeksvraag. \n",
    "\n",
    "**num_critic_for_reviews**: een **discrete meetwaarde** die ons laat zien hoeveel critici een film hebben gerecenseerd.\n",
    "Deze featurevariabele is een andere maatstaf voor populariteit van een film op IMDb. Ook deze variabele lijkt op eerste oogopslag erg interessant voor onderzoeksvraag 1.\n",
    "\n",
    "**num_user_for_reviews**: een **discrete meetwaarde** die ons laat zien hoeveel IMDb gebruikers een film hebben gerecenseerd.\n",
    "Dit is de derde meetwaarde die IMDb populariteit aangeeft. Een review achterlaten is meer moeite dan simpelweg stemmen, \n",
    "dus wellicht dat de waardes voor deze featurevariabele zwaarder wegen of een sterkere correlatie aangeven dan de voorgaande variabelen die te maken hadden met IMDb populariteit.\n",
    "\n",
    "**imdb_score**: een **discrete meetwaarde** die de score van een film weergeeft.\n",
    "IMDB score is één van onze targetvariabelen en zodoende nemen we deze sowieso mee in onze dataset.\n",
    "\n",
    "**movie_facebook_likes**: een **discrete meetwaarde** die de hoeveelheid likes die een film op facebook heeft weergeeft.\n",
    "Movie_facebook_likes is de meetwaarde die we gebruiken om te bepalen hoe populair een film op facebook is, wat één van onze directe featurevariabelen is voor onderzoeksvraag 1.\n",
    "\n",
    "**budget**: een **continue meetwaarde** die aangeeft hoeveel geld er is besteed aan het produceren van een film.\n",
    "Budget is een meetwaarde die we sowieso interessant vonden om mee te nemen, eventueel voor onderzoeksvraag 2. \n",
    "We kwamen er al snel achter dat er een paar vreemde uitschieteres zijn, maar die zijn vrij simpel te verhelpen. Verder zullen we hier ook nog de waardes moeten normaliseren, gezien er af en toe waardes tussen zitten die in een andere munteenheid\n",
    "Er zijn best veel entries in onze dataframe met null-waardes op \"budget\", dus we kiezen ervoor om die te droppen, gezien we deze featurevariabele centraal stellen in onze onderzoeksvraag.\n",
    "\n",
    "**gross**: een **continue meetwaarde** die aangeeft hoeveel omzet een film heeft gedraaid.\n",
    "Gross is een meetwaarde die in meerdere van onze onderzoeksvragen een vrij prominente rol speelt. "
   ]
  },
  {
   "cell_type": "markdown",
   "metadata": {},
   "source": [
    "<h2> Eerste kijk in de database met gekozen feature variabelen </h2>:\n",
    "\n",
    "We gebruiken hier describe() om inzicht te krijgen in de centrum en spreidingsmaten van onze gekozen variabelen."
   ]
  },
  {
   "cell_type": "code",
   "execution_count": 3,
   "metadata": {
    "pycharm": {
     "name": "#%%\n"
    },
    "scrolled": true
   },
   "outputs": [
    {
     "name": "stderr",
     "output_type": "stream",
     "text": [
      "C:\\Users\\emiel\\AppData\\Local\\Temp/ipykernel_13924/308814825.py:5: SettingWithCopyWarning: \n",
      "A value is trying to be set on a copy of a slice from a DataFrame.\n",
      "Try using .loc[row_indexer,col_indexer] = value instead\n",
      "\n",
      "See the caveats in the documentation: https://pandas.pydata.org/pandas-docs/stable/user_guide/indexing.html#returning-a-view-versus-a-copy\n",
      "  feature_table[\"movie_imdb_link\"]= feature_table[\"movie_imdb_link\"].str.split(\"/\", n = 5, expand = True)[4]\n"
     ]
    },
    {
     "data": {
      "text/plain": "          duration  num_voted_users  num_critic_for_reviews  \\\ncount  5028.000000     5.043000e+03             4993.000000   \nmean    107.201074     8.366816e+04              140.194272   \nstd      25.197441     1.384853e+05              121.601675   \nmin       7.000000     5.000000e+00                1.000000   \n25%      93.000000     8.593500e+03               50.000000   \n50%     103.000000     3.435900e+04              110.000000   \n75%     118.000000     9.630900e+04              195.000000   \nmax     511.000000     1.689764e+06              813.000000   \n\n       num_user_for_reviews   imdb_score  movie_facebook_likes        budget  \\\ncount           5022.000000  5043.000000           5043.000000  4.551000e+03   \nmean             272.770808     6.442138           7525.964505  3.975262e+07   \nstd              377.982886     1.125116          19320.445110  2.061149e+08   \nmin                1.000000     1.600000              0.000000  2.180000e+02   \n25%               65.000000     5.800000              0.000000  6.000000e+06   \n50%              156.000000     6.600000            166.000000  2.000000e+07   \n75%              326.000000     7.200000           3000.000000  4.500000e+07   \nmax             5060.000000     9.500000         349000.000000  1.221550e+10   \n\n              gross  \ncount  4.159000e+03  \nmean   4.846841e+07  \nstd    6.845299e+07  \nmin    1.620000e+02  \n25%    5.340988e+06  \n50%    2.551750e+07  \n75%    6.230944e+07  \nmax    7.605058e+08  ",
      "text/html": "<div>\n<style scoped>\n    .dataframe tbody tr th:only-of-type {\n        vertical-align: middle;\n    }\n\n    .dataframe tbody tr th {\n        vertical-align: top;\n    }\n\n    .dataframe thead th {\n        text-align: right;\n    }\n</style>\n<table border=\"1\" class=\"dataframe\">\n  <thead>\n    <tr style=\"text-align: right;\">\n      <th></th>\n      <th>duration</th>\n      <th>num_voted_users</th>\n      <th>num_critic_for_reviews</th>\n      <th>num_user_for_reviews</th>\n      <th>imdb_score</th>\n      <th>movie_facebook_likes</th>\n      <th>budget</th>\n      <th>gross</th>\n    </tr>\n  </thead>\n  <tbody>\n    <tr>\n      <th>count</th>\n      <td>5028.000000</td>\n      <td>5.043000e+03</td>\n      <td>4993.000000</td>\n      <td>5022.000000</td>\n      <td>5043.000000</td>\n      <td>5043.000000</td>\n      <td>4.551000e+03</td>\n      <td>4.159000e+03</td>\n    </tr>\n    <tr>\n      <th>mean</th>\n      <td>107.201074</td>\n      <td>8.366816e+04</td>\n      <td>140.194272</td>\n      <td>272.770808</td>\n      <td>6.442138</td>\n      <td>7525.964505</td>\n      <td>3.975262e+07</td>\n      <td>4.846841e+07</td>\n    </tr>\n    <tr>\n      <th>std</th>\n      <td>25.197441</td>\n      <td>1.384853e+05</td>\n      <td>121.601675</td>\n      <td>377.982886</td>\n      <td>1.125116</td>\n      <td>19320.445110</td>\n      <td>2.061149e+08</td>\n      <td>6.845299e+07</td>\n    </tr>\n    <tr>\n      <th>min</th>\n      <td>7.000000</td>\n      <td>5.000000e+00</td>\n      <td>1.000000</td>\n      <td>1.000000</td>\n      <td>1.600000</td>\n      <td>0.000000</td>\n      <td>2.180000e+02</td>\n      <td>1.620000e+02</td>\n    </tr>\n    <tr>\n      <th>25%</th>\n      <td>93.000000</td>\n      <td>8.593500e+03</td>\n      <td>50.000000</td>\n      <td>65.000000</td>\n      <td>5.800000</td>\n      <td>0.000000</td>\n      <td>6.000000e+06</td>\n      <td>5.340988e+06</td>\n    </tr>\n    <tr>\n      <th>50%</th>\n      <td>103.000000</td>\n      <td>3.435900e+04</td>\n      <td>110.000000</td>\n      <td>156.000000</td>\n      <td>6.600000</td>\n      <td>166.000000</td>\n      <td>2.000000e+07</td>\n      <td>2.551750e+07</td>\n    </tr>\n    <tr>\n      <th>75%</th>\n      <td>118.000000</td>\n      <td>9.630900e+04</td>\n      <td>195.000000</td>\n      <td>326.000000</td>\n      <td>7.200000</td>\n      <td>3000.000000</td>\n      <td>4.500000e+07</td>\n      <td>6.230944e+07</td>\n    </tr>\n    <tr>\n      <th>max</th>\n      <td>511.000000</td>\n      <td>1.689764e+06</td>\n      <td>813.000000</td>\n      <td>5060.000000</td>\n      <td>9.500000</td>\n      <td>349000.000000</td>\n      <td>1.221550e+10</td>\n      <td>7.605058e+08</td>\n    </tr>\n  </tbody>\n</table>\n</div>"
     },
     "execution_count": 3,
     "metadata": {},
     "output_type": "execute_result"
    }
   ],
   "source": [
    "#trim tables so we only have feature variables\n",
    "feature_table = table[['movie_title','duration', 'movie_imdb_link', 'num_voted_users', 'num_critic_for_reviews', 'num_user_for_reviews','imdb_score', 'movie_facebook_likes','budget', 'gross', 'director_name']]\n",
    "\n",
    "# change the movie_imdb_link to a imdb_title_id\n",
    "feature_table[\"movie_imdb_link\"]= feature_table[\"movie_imdb_link\"].str.split(\"/\", n = 5, expand = True)[4]\n",
    "feature_table = feature_table.rename(columns={\"movie_imdb_link\": \"imdb_title_id\"})\n",
    "\n",
    "# Use describe function to show the central tendency and dispersion values, of only the feature variables\n",
    "feature_table.describe()\n"
   ]
  },
  {
   "cell_type": "markdown",
   "metadata": {},
   "source": [
    "Een aantal observaties:\n",
    "    \n",
    "We hebben ~5000 films in onze eerste database. \n",
    "\n",
    "De budget feature mist ~10% van zijn waardes, de gross feature bijna 20%.\n",
    "\n",
    "Alle andere features missen maar een heel klein deel van hun waardes."
   ]
  },
  {
   "cell_type": "code",
   "execution_count": 4,
   "metadata": {
    "pycharm": {
     "name": "#%%\n"
    }
   },
   "outputs": [
    {
     "name": "stdout",
     "output_type": "stream",
     "text": [
      "Voordat we de null-waardes droppen hebben we: 5043 films in de database\n",
      "movie_title                 0\n",
      "duration                   15\n",
      "imdb_title_id               0\n",
      "num_voted_users             0\n",
      "num_critic_for_reviews     50\n",
      "num_user_for_reviews       21\n",
      "imdb_score                  0\n",
      "movie_facebook_likes        0\n",
      "budget                    492\n",
      "gross                     884\n",
      "director_name             104\n",
      "dtype: int64\n",
      "Nadat we de null-waardes droppen hebben we: 3889 films in de database\n"
     ]
    }
   ],
   "source": [
    "print(f'Voordat we de null-waardes droppen hebben we: {len(feature_table)} films in de database')\n",
    "\n",
    "# Show the amount of NaN per column\n",
    "print(feature_table.isnull().sum())\n",
    "\n",
    "#drop all rows which containt atleast 1 NaN\n",
    "feature_table.dropna(inplace=True)\n",
    "\n",
    "#Print the amount of NaN's per column, which will be 0 after the previous dropna function\n",
    "print(f'Nadat we de null-waardes droppen hebben we: {len(feature_table)} films in de database')\n",
    "\n"
   ]
  },
  {
   "cell_type": "markdown",
   "metadata": {},
   "source": [
    "Hier verwijderen we alle films uit de dataframe met NaN waardes op onze gekozen featurevariabelen. Dit verwijdert **1154** films.\n",
    "\n",
    "Gezien gross en budget hele belangrijke featurevariabelen zijn voor ons, en het eigenlijk te veel data is om genormaliseerde waardes in te vullen, hebben we ervoor gekozen om deze records simpelweg weg te laten.\n",
    "\n",
    "We verwijderen wellicht ook een aantal rijen vanwege andere ontbrekende variabelen, maar dat zijn er relatief weinig, dus we kiezen ervoor om ook die te droppen."
   ]
  },
  {
   "cell_type": "markdown",
   "metadata": {},
   "source": [
    "<h2>Outlier onderzoek: </h2>\n",
    "\n",
    "Hier kijken we naar de outliers in de data. \n",
    "\n",
    "Een outlier word hier gedefiniëerd als een datapunt wat 3 standaarddeviaties boven of onder het gemiddelde ligt."
   ]
  },
  {
   "cell_type": "code",
   "execution_count": 5,
   "metadata": {
    "pycharm": {
     "name": "#%%\n"
    }
   },
   "outputs": [
    {
     "name": "stdout",
     "output_type": "stream",
     "text": [
      "De column duration bevat: 55 outliers\n",
      "De column num_voted_users bevat: 80 outliers\n",
      "De column num_critic_for_reviews bevat: 61 outliers\n",
      "De column num_user_for_reviews bevat: 80 outliers\n",
      "De column imdb_score bevat: 0 outliers\n",
      "De column movie_facebook_likes bevat: 86 outliers\n",
      "De column budget bevat: 7 outliers\n",
      "De column gross bevat: 86 outliers\n"
     ]
    }
   ],
   "source": [
    "# Temporary list that only contains columns which have numeral values, not names\n",
    "lst = feature_table.drop(['movie_title','director_name','imdb_title_id'],axis=1)\n",
    "\n",
    "\n",
    "# Calculate outliers per column, and print them\n",
    "for col in lst:\n",
    "    outliers = feature_table[feature_table[col] > feature_table[col].mean() + 3 * feature_table[col].std()]\n",
    "    pd.set_option('display.max_rows', None)\n",
    "    print(f'De column {col} bevat: {len(outliers)} outliers')\n",
    "    "
   ]
  },
  {
   "cell_type": "markdown",
   "metadata": {},
   "source": [
    "<h2>Verdelingsanalyse:</h2>\n",
    "Hieronder plotten we een aantal density plots, die ons inzicht geven in de verdeling van onze featurevariabelen. Deze kunnen we gebruiken om te bepalen welke outliers ook écht outliers zijn. \n",
    "\n",
    "TODO: Outliers bepalen en verwijderen"
   ]
  },
  {
   "cell_type": "code",
   "execution_count": 6,
   "metadata": {
    "pycharm": {
     "name": "#%%\n"
    },
    "scrolled": false
   },
   "outputs": [
    {
     "data": {
      "text/plain": "<Figure size 432x288 with 1 Axes>",
      "image/png": "[encoded data removed]"
     },
     "metadata": {
      "needs_background": "light"
     },
     "output_type": "display_data"
    },
    {
     "data": {
      "text/plain": "<Figure size 432x288 with 1 Axes>",
      "image/png": "[encoded data removed]"
     },
     "metadata": {
      "needs_background": "light"
     },
     "output_type": "display_data"
    },
    {
     "data": {
      "text/plain": "<Figure size 432x288 with 1 Axes>",
      "image/png": "[encoded data removed]"
     },
     "metadata": {
      "needs_background": "light"
     },
     "output_type": "display_data"
    },
    {
     "data": {
      "text/plain": "<Figure size 432x288 with 1 Axes>",
      "image/png": "[encoded data removed]"
     },
     "metadata": {
      "needs_background": "light"
     },
     "output_type": "display_data"
    },
    {
     "data": {
      "text/plain": "<Figure size 432x288 with 1 Axes>",
      "image/png": "[encoded data removed]"
     },
     "metadata": {
      "needs_background": "light"
     },
     "output_type": "display_data"
    },
    {
     "data": {
      "text/plain": "<Figure size 432x288 with 1 Axes>",
      "image/png": "[encoded data removed]"
     },
     "metadata": {
      "needs_background": "light"
     },
     "output_type": "display_data"
    },
    {
     "data": {
      "text/plain": "<Figure size 432x288 with 1 Axes>",
      "image/png": "[encoded data removed]"
     },
     "metadata": {
      "needs_background": "light"
     },
     "output_type": "display_data"
    },
    {
     "data": {
      "text/plain": "<Figure size 432x288 with 1 Axes>",
      "image/png": "[encoded data removed]"
     },
     "metadata": {
      "needs_background": "light"
     },
     "output_type": "display_data"
    }
   ],
   "source": [
    "col_name_list = [col for col in list(feature_table.columns) if col not in ['movie_title', 'imdb_title_id', 'director_name']]\n",
    "col_data_list = [feature_table[x] for x in col_name_list]\n",
    "\n",
    "\n",
    "fig, ax = plt.subplots(len(col_data_list),1)\n",
    "fig.set_size_inches(25, 35)\n",
    "\n",
    "for x in range(len(cat_lst_data)):\n",
    "    sns.kdeplot(np.array(col_data_list[x]), ax = ax[x]).set(title= col_name_list[x].capitalize(), xlim = (0))\n",
    "\n",
    "plt.rcParams[\"figure.figsize\"] = plt.rcParamsDefault[\"figure.figsize\"]\n"
   ]
  },
  {
   "cell_type": "markdown",
   "metadata": {
    "pycharm": {
     "name": "#%% md\n"
    }
   },
   "source": [
    "<h2>Normaalverdeling meting:</h2>\n",
    "TODO: wat doen we hiermee?"
   ]
  },
  {
   "cell_type": "code",
   "metadata": {
    "pycharm": {
     "name": "#%%\n"
    }
   },
   "source": [
    "# Zoals hierboven te zien is aan de density plots, zijn niet alle feature variables normaal verdeelt\n",
    "# Hier gebruiken we de normaltest waarmee scipy berekent of de gegeven data normaal verdeelt is.\n",
    "# normal test geeft een pvalue. Als deze pvalue GROTER is dan 0.05, dan is de data normaal verdeelt.\n",
    "print(stats.normaltest(feature_table['movie_facebook_likes']))\n",
    "print(stats.normaltest(feature_table['duration']))\n",
    "print(stats.normaltest(feature_table['gross']))\n",
    "#Hier printen we de results van de normal test op kolomnen die visueel op een normaal verdeling lijken\n",
    "# Hier blijkt dat geen van de kolomnen normaal verdeelt is.\n",
    "\n",
    "\n",
    "#Hier laten we zien hoe we de outliers zouden verwijderen\n",
    "#Dit doen we niet omdat de data niet normaal verdeelt is, waardoor de outliers ook niet veel zeggen\n",
    "print(feature_table.count())\n",
    "Q1 = feature_table.quantile(0.25)\n",
    "Q3 = feature_table.quantile(0.75)\n",
    "IQR = Q3 - Q1\n",
    "no_out = feature_table.copy(deep=True)\n",
    "\n",
    "no_out = no_out[~((no_out < (Q1 - 1.5 * IQR)) |(no_out > (Q3 + 1.5 * IQR))).any(axis=1)]\n",
    "print(no_out.count())"
   ],
   "execution_count": null,
   "outputs": []
  },
  {
   "cell_type": "markdown",
   "metadata": {
    "pycharm": {
     "name": "#%% md\n"
    }
   },
   "source": [
    "<h2>Conclusie density plots/outliers</h2>\n",
    "TODO"
   ]
  },
  {
   "cell_type": "markdown",
   "metadata": {
    "pycharm": {
     "name": "#%% md\n"
    }
   },
   "source": [
    "<h1> Korte data-analyse </h1>\n",
    "\n",
    "Hieronder doen we een aantal visualisaties om alvast wat inzicht te krijgen in eventuele correlaties tussen de data. Dit geeft een beetje en idee van hoe de data eruit ziet."
   ]
  },
  {
   "cell_type": "markdown",
   "metadata": {
    "pycharm": {
     "name": "#%% md\n"
    }
   },
   "source": [
    "<h2> Correlatie IMDb Score vs Gross </h2>\n",
    "Hier maken we een scatterplot om alvast te kijken naar de verhouding tussen imdb score en gross."
   ]
  },
  {
   "cell_type": "code",
   "metadata": {
    "pycharm": {
     "name": "#%%\n"
    }
   },
   "source": [
    "table = table.dropna()\n",
    "\n",
    "x = table[['imdb_score']]\n",
    "y = table[['gross']]\n",
    "\n",
    "plt.xlabel('movie IMDB rating')\n",
    "plt.ylabel('movie gross')\n",
    "\n",
    "lm = linear_model.LinearRegression()\n",
    "lm.fit(x, y)\n",
    "\n",
    "\n",
    "pX = pd.DataFrame([1,2,3,4,5,6,7,8,9,10])\n",
    "\n",
    "\n",
    "plt.plot([1,2,3,4,5,6,7,8,9,10],lm.predict(pX),\n",
    "        marker='.', markerfacecolor='red', markersize=10, color = 'red')\n",
    "plt.xticks(np.arange(0, 11, 1.0))\n",
    "\n",
    "plt.scatter(x, y, s = .5)\n",
    "plt.show()\n"
   ],
   "execution_count": null,
   "outputs": []
  },
  {
   "cell_type": "markdown",
   "metadata": {
    "pycharm": {
     "name": "#%% md\n"
    }
   },
   "source": [
    "Je kunt hier zien dat er zeker een correlatie te vinden is en dus is het interessant om verder te onderzoeken hoe zich dit verhoudt en of we dit kunnen gebruiken om voorspellingen te doen."
   ]
  },
  {
   "cell_type": "markdown",
   "metadata": {
    "pycharm": {
     "name": "#%% md\n"
    }
   },
   "source": [
    "<h2> Correlatie facebook likes vs Gross</h2>\n",
    "Hier zien we dat de correlatie tussen facebook likes en gross er heel anders uit ziet. Ook interessant om nader te onderzoeken."
   ]
  },
  {
   "cell_type": "code",
   "metadata": {
    "pycharm": {
     "name": "#%%\n"
    }
   },
   "source": [
    "table = table.dropna()\n",
    "\n",
    "x = table[['movie_facebook_likes']]\n",
    "y = table[['gross']]\n",
    "\n",
    "plt.xlabel('movie_facebook_likes')\n",
    "plt.ylabel('movie_gross')\n",
    "\n",
    "plt.scatter(x, y, s = .5)\n",
    "plt.show()"
   ],
   "execution_count": null,
   "outputs": []
  },
  {
   "cell_type": "markdown",
   "metadata": {
    "pycharm": {
     "name": "#%% md\n"
    }
   },
   "source": [
    "<h2> Correlatie IMDb score vs Budget </h2>\n",
    "\n",
    "Hier kijken we naar de correlatie tussen de IMDb score en het budget van de film. Er is duidelijk een lineare correlatie te herkennen."
   ]
  },
  {
   "cell_type": "code",
   "metadata": {
    "pycharm": {
     "name": "#%%\n"
    }
   },
   "source": [
    "table = table.dropna()\n",
    "\n",
    "x = table[['imdb_score']]\n",
    "y = table[['budget']]\n",
    "\n",
    "plt.xlabel('movie IMDB rating')\n",
    "plt.ylabel('movie budget')\n",
    "\n",
    "\n",
    "plt.ylim(0,800000000)\n",
    "\n",
    "lm = linear_model.LinearRegression()\n",
    "lm.fit(x, y)\n",
    "\n",
    "\n",
    "pX = pd.DataFrame([1,2,3,4,5,6,7,8,9,10])\n",
    "\n",
    "\n",
    "plt.plot([1,2,3,4,5,6,7,8,9,10],lm.predict(pX),\n",
    "        marker='.', markerfacecolor='red', markersize=10, color = 'red')\n",
    "plt.xticks(np.arange(0, 11, 1.0))\n",
    "\n",
    "plt.scatter(x, y, s = .5)\n",
    "plt.show()"
   ],
   "execution_count": null,
   "outputs": []
  },
  {
   "cell_type": "code",
   "execution_count": 11,
   "metadata": {
    "pycharm": {
     "name": "#%%\n"
    }
   },
   "outputs": [
    {
     "ename": "NameError",
     "evalue": "name 'templist' is not defined",
     "output_type": "error",
     "traceback": [
      "\u001B[1;31m---------------------------------------------------------------------------\u001B[0m",
      "\u001B[1;31mNameError\u001B[0m                                 Traceback (most recent call last)",
      "\u001B[1;32m~\\AppData\\Local\\Temp/ipykernel_13924/1259940077.py\u001B[0m in \u001B[0;36m<module>\u001B[1;34m\u001B[0m\n\u001B[0;32m      2\u001B[0m \u001B[1;31m# Hier gebruiken we de normaltest waarmee scipy berekent of de gegeven data normaal verdeelt is.\u001B[0m\u001B[1;33m\u001B[0m\u001B[1;33m\u001B[0m\u001B[1;33m\u001B[0m\u001B[0m\n\u001B[0;32m      3\u001B[0m \u001B[1;31m# normal test geeft een pvalue. Als deze pvalue GROTER is dan 0.05, dan is de data normaal verdeelt.\u001B[0m\u001B[1;33m\u001B[0m\u001B[1;33m\u001B[0m\u001B[1;33m\u001B[0m\u001B[0m\n\u001B[1;32m----> 4\u001B[1;33m \u001B[0mprint\u001B[0m\u001B[1;33m(\u001B[0m\u001B[0mstats\u001B[0m\u001B[1;33m.\u001B[0m\u001B[0mnormaltest\u001B[0m\u001B[1;33m(\u001B[0m\u001B[0mtemplist\u001B[0m\u001B[1;33m[\u001B[0m\u001B[1;34m'movie_facebook_likes'\u001B[0m\u001B[1;33m]\u001B[0m\u001B[1;33m)\u001B[0m\u001B[1;33m)\u001B[0m\u001B[1;33m\u001B[0m\u001B[1;33m\u001B[0m\u001B[0m\n\u001B[0m\u001B[0;32m      5\u001B[0m \u001B[0mprint\u001B[0m\u001B[1;33m(\u001B[0m\u001B[0mstats\u001B[0m\u001B[1;33m.\u001B[0m\u001B[0mnormaltest\u001B[0m\u001B[1;33m(\u001B[0m\u001B[0mtemplist\u001B[0m\u001B[1;33m[\u001B[0m\u001B[1;34m'duration'\u001B[0m\u001B[1;33m]\u001B[0m\u001B[1;33m)\u001B[0m\u001B[1;33m)\u001B[0m\u001B[1;33m\u001B[0m\u001B[1;33m\u001B[0m\u001B[0m\n\u001B[0;32m      6\u001B[0m \u001B[0mprint\u001B[0m\u001B[1;33m(\u001B[0m\u001B[0mstats\u001B[0m\u001B[1;33m.\u001B[0m\u001B[0mnormaltest\u001B[0m\u001B[1;33m(\u001B[0m\u001B[0mtemplist\u001B[0m\u001B[1;33m[\u001B[0m\u001B[1;34m'gross'\u001B[0m\u001B[1;33m]\u001B[0m\u001B[1;33m)\u001B[0m\u001B[1;33m)\u001B[0m\u001B[1;33m\u001B[0m\u001B[1;33m\u001B[0m\u001B[0m\n",
      "\u001B[1;31mNameError\u001B[0m: name 'templist' is not defined"
     ]
    }
   ],
   "source": [
    "# Zoals hierboven te zien is aan de density plots, zijn niet alle feature variables normaal verdeelt\n",
    "# Hier gebruiken we de normaltest waarmee scipy berekent of de gegeven data normaal verdeelt is.\n",
    "# normal test geeft een pvalue. Als deze pvalue GROTER is dan 0.05, dan is de data normaal verdeelt.\n",
    "print(stats.normaltest(templist['movie_facebook_likes']))\n",
    "print(stats.normaltest(templist['duration']))\n",
    "print(stats.normaltest(templist['gross']))\n",
    "#Hier printen we de results van de normal test op kolomnen die visueel op een normaal verdeling lijken\n",
    "# Hier blijkt dat geen van de kolomnen normaal verdeelt is.\n",
    "\n",
    "\n",
    "#Hier laten we zien hoe we de outliers zouden verwijderen\n",
    "#Dit doen we niet omdat de data niet normaal verdeelt is, waardoor de outliers ook niet veel zeggen\n",
    "print(templist.count())\n",
    "Q1 = templist.quantile(0.25)\n",
    "Q3 = templist.quantile(0.75)\n",
    "IQR = Q3 - Q1\n",
    "no_out = templist.copy(deep=True)\n",
    "\n",
    "no_out = no_out[~((no_out < (Q1 - 1.5 * IQR)) |(no_out > (Q3 + 1.5 * IQR))).any(axis=1)]\n",
    "print(no_out.count())"
   ]
  },
  {
   "cell_type": "markdown",
   "metadata": {
    "pycharm": {
     "name": "#%% md\n"
    }
   },
   "source": [
    "<h2> Table merge process </h2>\n",
    "\n",
    "\n",
    "\n",
    "Voor dit project hebben wij een tweede dataset gevonden op Kaggle (https://www.kaggle.com/stefanoleone992/imdb-extensive-dataset) met IMDb data. Die gaan we in het onderstaande codeblock samenvoegen met de gegeven database.\n",
    "\n",
    "Daarvoor moeten we een aantal dingen doen. De eerste stap is om in de 2e tabel de kolom \"movie_facebook_likes\" toe te voegen en te vullen met NaNs, dat maakt het samenvoegen van de twee tabellen makkelijker.\n",
    "\n",
    "Vervolgens zorgen we ervoor dat beide tabellen voor dezelfde informatie ook dezelfde colomnamen gebruiken. \n",
    "\n",
    "We gebruiken de IMDb ID als index. In de gegeven database is dit een ID, maar in onze database is het een link waar de ID in zit. Die trimmen we om de ID te extraheren. \n",
    "\n",
    "Als we dat hebben gedaan voegen we de twee databases samen en verwijderen dubbele waardes."
   ]
  },
  {
   "cell_type": "code",
   "metadata": {
    "pycharm": {
     "name": "#%%\n"
    }
   },
   "source": [
    "def normalize_budget_gross():\n",
    "    \"\"\"the budget/gross of the second dataset uses a different format, we only keep the values already in USD\"\"\"\n",
    "\n",
    "    def isnumber(x):\n",
    "        try:\n",
    "            float(x)\n",
    "            return x\n",
    "        except:\n",
    "            return np.NaN\n",
    "\n",
    "    table2['budget'] = table2['budget'].str.replace('$', '')\n",
    "    table2['usa_gross_income'] = table2['usa_gross_income'].str.replace('$', '')\n",
    "\n",
    "    table2['budget'] = table2['budget'].map(isnumber)\n",
    "    table2['usa_gross_income'] = table2['usa_gross_income'].map(isnumber)\n",
    "\n",
    "\n",
    "normalize_budget_gross()\n",
    "\n",
    "\n",
    "#replace values with the value 0 in the column movie_facebook_likes with np.NaN, since no movie actually has 0 facebook likes\n",
    "#it functions as a NULL value but screws with our data\n",
    "table['movie_facebook_likes'] =  table['movie_facebook_likes'].replace(0, np.NaN)"
   ],
   "execution_count": null,
   "outputs": []
  },
  {
   "cell_type": "code",
   "metadata": {
    "pycharm": {
     "name": "#%%\n"
    }
   },
   "source": [
    "# the second data set has no facebook_likes so we create an empty column\n",
    "table2['movie_facebook_likes'] = np.NaN\n",
    "\n",
    "#trim both tables so we only have \n",
    "feature_table = table[['movie_title','duration', 'movie_imdb_link', 'num_voted_users', 'num_critic_for_reviews', 'num_user_for_reviews','imdb_score', 'movie_facebook_likes','budget', 'gross', 'director_name']]\n",
    "feature_table2 = table2[['original_title', 'duration', 'imdb_title_id', 'votes', 'reviews_from_critics', 'reviews_from_users', 'avg_vote','movie_facebook_likes', 'budget','usa_gross_income', 'director' ]]\n",
    "\n",
    "\n",
    "# change the movie_imdb_link to a imdb_title_id\n",
    "feature_table[\"movie_imdb_link\"]= feature_table[\"movie_imdb_link\"].str.split(\"/\", n = 5, expand = True)[4]\n",
    "feature_table = feature_table.rename(columns={\"movie_imdb_link\": \"imdb_title_id\"})\n",
    "\n",
    "#change the names of the columns of the second table to corresponding collumn names of the first table\n",
    "feature_table2 = feature_table2.rename(columns={\"avg_vote\": \"imdb_score\", 'original_title':'movie_title', 'votes':'num_voted_users', 'usa_gross_income':'gross', 'reviews_from_critics': 'num_critic_for_reviews', 'reviews_from_users': 'num_user_for_reviews', 'director':'director_name'})\n",
    "\n",
    "#append table2 to table\n",
    "new_df = feature_table.append(feature_table2)\n",
    "\n",
    "#remove duplicates from the merged tables\n",
    "new_df.drop_duplicates(subset =\"imdb_title_id\",\n",
    "                     keep = 'first', inplace = True)\n",
    "\n",
    "\n",
    "#cast all values in the  gross and budget columns to floats\n",
    "new_df.gross = pd.to_numeric(new_df.gross)\n",
    "new_df.budget = pd.to_numeric(new_df.budget)\n",
    "\n"
   ],
   "execution_count": null,
   "outputs": []
  },
  {
   "cell_type": "code",
   "execution_count": null,
   "metadata": {
    "pycharm": {
     "name": "#%%\n"
    }
   },
   "outputs": [],
   "source": [
    "len(new_df)"
   ]
  },
  {
   "cell_type": "code",
   "execution_count": null,
   "metadata": {
    "pycharm": {
     "name": "#%%\n"
    }
   },
   "outputs": [],
   "source": [
    "new_df.dtypes"
   ]
  },
  {
   "cell_type": "code",
   "execution_count": null,
   "metadata": {},
   "outputs": [],
   "source": [
    "temp_df.hist()\n",
    "\n",
    "\n",
    "plt.plot(temp_df.budget,temp_df.imdb_score)"
   ]
  },
  {
   "cell_type": "code",
   "execution_count": null,
   "metadata": {},
   "outputs": [],
   "source": []
  },
  {
   "cell_type": "code",
   "execution_count": null,
   "metadata": {},
   "outputs": [],
   "source": []
  },
  {
   "cell_type": "code",
   "execution_count": null,
   "metadata": {},
   "outputs": [],
   "source": []
  }
 ],
 "metadata": {
  "interpreter": {
   "hash": "b3ba2566441a7c06988d0923437866b63cedc61552a5af99d1f4fb67d367b25f"
  },
  "kernelspec": {
   "display_name": "Python 3 (ipykernel)",
   "language": "python",
   "name": "python3"
  },
  "language_info": {
   "codemirror_mode": {
    "name": "ipython",
    "version": 3
   },
   "file_extension": ".py",
   "mimetype": "text/x-python",
   "name": "python",
   "nbconvert_exporter": "python",
   "pygments_lexer": "ipython3",
   "version": "3.8.5"
  }
 },
 "nbformat": 4,
 "nbformat_minor": 1
}
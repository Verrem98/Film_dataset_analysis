{
 "cells": [
  {
   "cell_type": "code",
   "execution_count": 280,
   "metadata": {},
   "outputs": [],
   "source": [
    "import numpy as np\n",
    "import pandas as pd\n",
    "import matplotlib.pyplot as plt\n",
    "from sklearn import linear_model\n",
    "from scipy.stats import pearsonr\n",
    "\n",
    "#the film database from the assignment\n",
    "table = pd.read_csv(\"movie.csv\")\n",
    "\n",
    "#film database we found online(https://www.kaggle.com/stefanoleone992/imdb-extensive-dataset)\n",
    "table2 =  pd.read_csv(\"IMDB_movies.csv\")\n"
   ]
  },
  {
   "cell_type": "markdown",
   "metadata": {},
   "source": [
    "<h2> Table merge process </h2>"
   ]
  },
  {
   "cell_type": "code",
   "execution_count": 327,
   "metadata": {
    "scrolled": true
   },
   "outputs": [
    {
     "name": "stderr",
     "output_type": "stream",
     "text": [
      "C:\\Users\\emiel\\AppData\\Local\\Temp/ipykernel_4040/220315576.py:9: SettingWithCopyWarning: \n",
      "A value is trying to be set on a copy of a slice from a DataFrame.\n",
      "Try using .loc[row_indexer,col_indexer] = value instead\n",
      "\n",
      "See the caveats in the documentation: https://pandas.pydata.org/pandas-docs/stable/user_guide/indexing.html#returning-a-view-versus-a-copy\n",
      "  feature_table[\"movie_imdb_link\"]= feature_table[\"movie_imdb_link\"].str.split(\"/\", n = 5, expand = True)[4]\n"
     ]
    },
    {
     "data": {
      "text/plain": [
       "{'$', '1', '2', '3', '4', '5', '6', '7', '8', '9', 'G', 'I', 'N', 'P', 'n'}"
      ]
     },
     "execution_count": 327,
     "metadata": {},
     "output_type": "execute_result"
    }
   ],
   "source": [
    "# the second data set has no facebook_likes so we create an empty column\n",
    "table2['movie_facebook_likes'] = np.NaN\n",
    "\n",
    "#trim both tables so we only have \n",
    "feature_table = table[['movie_title','duration', 'movie_imdb_link', 'num_voted_users', 'num_critic_for_reviews', 'num_user_for_reviews','imdb_score', 'movie_facebook_likes','budget', 'gross', 'director_name']]\n",
    "feature_table2 = table2[['original_title', 'duration', 'imdb_title_id', 'votes', 'reviews_from_critics', 'reviews_from_users', 'avg_vote','movie_facebook_likes', 'budget','worlwide_gross_income', 'director' ]]\n",
    "\n",
    "\n",
    "# change the movie_imdb_link to a imdb_title_id\n",
    "feature_table[\"movie_imdb_link\"]= feature_table[\"movie_imdb_link\"].str.split(\"/\", n = 5, expand = True)[4]\n",
    "feature_table = feature_table.rename(columns={\"movie_imdb_link\": \"imdb_title_id\"})\n",
    "\n",
    "#change the names of the columns of the second table to corresponding collumn names of the first table\n",
    "feature_table2 = feature_table2.rename(columns={\"avg_vote\": \"imdb_score\", 'original_title':'movie_title', 'votes':'num_voted_users', 'worlwide_gross_income':'gross', 'reviews_from_critics': 'num_critic_for_reviews', 'reviews_from_users': 'num_user_for_reviews', 'director':'director_name'})\n",
    "\n",
    "#append table2 to table\n",
    "new_df = feature_table.append(feature_table2)\n",
    "\n",
    "#remove duplicates from the merged tables\n",
    "new_df.drop_duplicates(subset =\"imdb_title_id\",\n",
    "                     keep = 'first', inplace = True)\n",
    "\n",
    "\n",
    "forbidden_chars = ['G', 'I', 'N', 'P', 'n']\n",
    "set([str(x)[0] for x in new_df['gross']]) "
   ]
  },
  {
   "cell_type": "code",
   "execution_count": 275,
   "metadata": {},
   "outputs": [
    {
     "data": {
      "image/png": "[encoded data removed]",
      "text/plain": [
       "<Figure size 432x288 with 1 Axes>"
      ]
     },
     "metadata": {
      "needs_background": "light"
     },
     "output_type": "display_data"
    }
   ],
   "source": [
    "\n",
    "rounded_ratings = [round(x) for x in table.imdb_score]\n",
    "\n",
    "x = [i+1 for i in range(10)]\n",
    "y = [rounded_ratings.count(i) for i in x]\n",
    "\n",
    "#x = table.imdb_score.value_counts().keys()\n",
    "#y = table.imdb_score.value_counts().values\n",
    "\n",
    "fig = plt.figure()\n",
    "ax = fig.add_axes([0,0,1,1])\n",
    "\n",
    "plt.xlabel('rounded imdb_scores')\n",
    "plt.ylabel('frequency')\n",
    "\n",
    "ax.bar(x,y)\n",
    "plt.xticks(np.arange(0, 1, 1.0))\n",
    "plt.show()"
   ]
  },
  {
   "cell_type": "code",
   "execution_count": 56,
   "metadata": {},
   "outputs": [
    {
     "name": "stdout",
     "output_type": "stream",
     "text": [
      "count    5043.000000\n",
      "mean        6.442138\n",
      "std         1.125116\n",
      "min         1.600000\n",
      "25%         5.800000\n",
      "50%         6.600000\n",
      "75%         7.200000\n",
      "max         9.500000\n",
      "Name: imdb_score, dtype: float64\n"
     ]
    },
    {
     "data": {
      "text/html": [
       "<div>\n",
       "<style scoped>\n",
       "    .dataframe tbody tr th:only-of-type {\n",
       "        vertical-align: middle;\n",
       "    }\n",
       "\n",
       "    .dataframe tbody tr th {\n",
       "        vertical-align: top;\n",
       "    }\n",
       "\n",
       "    .dataframe thead th {\n",
       "        text-align: right;\n",
       "    }\n",
       "</style>\n",
       "<table border=\"1\" class=\"dataframe\">\n",
       "  <thead>\n",
       "    <tr style=\"text-align: right;\">\n",
       "      <th></th>\n",
       "      <th>color</th>\n",
       "      <th>director_name</th>\n",
       "      <th>num_critic_for_reviews</th>\n",
       "      <th>duration</th>\n",
       "      <th>director_facebook_likes</th>\n",
       "      <th>actor_3_facebook_likes</th>\n",
       "      <th>actor_2_name</th>\n",
       "      <th>actor_1_facebook_likes</th>\n",
       "      <th>gross</th>\n",
       "      <th>genres</th>\n",
       "      <th>...</th>\n",
       "      <th>num_user_for_reviews</th>\n",
       "      <th>language</th>\n",
       "      <th>country</th>\n",
       "      <th>content_rating</th>\n",
       "      <th>budget</th>\n",
       "      <th>title_year</th>\n",
       "      <th>actor_2_facebook_likes</th>\n",
       "      <th>imdb_score</th>\n",
       "      <th>aspect_ratio</th>\n",
       "      <th>movie_facebook_likes</th>\n",
       "    </tr>\n",
       "  </thead>\n",
       "  <tbody>\n",
       "    <tr>\n",
       "      <th>1937</th>\n",
       "      <td>Color</td>\n",
       "      <td>Frank Darabont</td>\n",
       "      <td>199.0</td>\n",
       "      <td>142.0</td>\n",
       "      <td>0.0</td>\n",
       "      <td>461.0</td>\n",
       "      <td>Jeffrey DeMunn</td>\n",
       "      <td>11000.0</td>\n",
       "      <td>28341469.0</td>\n",
       "      <td>Crime|Drama</td>\n",
       "      <td>...</td>\n",
       "      <td>4144.0</td>\n",
       "      <td>English</td>\n",
       "      <td>USA</td>\n",
       "      <td>R</td>\n",
       "      <td>25000000.0</td>\n",
       "      <td>1994.0</td>\n",
       "      <td>745.0</td>\n",
       "      <td>9.3</td>\n",
       "      <td>1.85</td>\n",
       "      <td>108000</td>\n",
       "    </tr>\n",
       "    <tr>\n",
       "      <th>2765</th>\n",
       "      <td>Color</td>\n",
       "      <td>John Blanchard</td>\n",
       "      <td>NaN</td>\n",
       "      <td>65.0</td>\n",
       "      <td>0.0</td>\n",
       "      <td>176.0</td>\n",
       "      <td>Andrea Martin</td>\n",
       "      <td>770.0</td>\n",
       "      <td>NaN</td>\n",
       "      <td>Comedy</td>\n",
       "      <td>...</td>\n",
       "      <td>NaN</td>\n",
       "      <td>English</td>\n",
       "      <td>Canada</td>\n",
       "      <td>NaN</td>\n",
       "      <td>NaN</td>\n",
       "      <td>NaN</td>\n",
       "      <td>179.0</td>\n",
       "      <td>9.5</td>\n",
       "      <td>1.33</td>\n",
       "      <td>0</td>\n",
       "    </tr>\n",
       "    <tr>\n",
       "      <th>2824</th>\n",
       "      <td>Color</td>\n",
       "      <td>NaN</td>\n",
       "      <td>53.0</td>\n",
       "      <td>55.0</td>\n",
       "      <td>NaN</td>\n",
       "      <td>2.0</td>\n",
       "      <td>Olaf Lubaszenko</td>\n",
       "      <td>20.0</td>\n",
       "      <td>447093.0</td>\n",
       "      <td>Drama</td>\n",
       "      <td>...</td>\n",
       "      <td>37.0</td>\n",
       "      <td>Polish</td>\n",
       "      <td>Poland</td>\n",
       "      <td>TV-MA</td>\n",
       "      <td>NaN</td>\n",
       "      <td>NaN</td>\n",
       "      <td>3.0</td>\n",
       "      <td>9.1</td>\n",
       "      <td>1.33</td>\n",
       "      <td>0</td>\n",
       "    </tr>\n",
       "    <tr>\n",
       "      <th>3207</th>\n",
       "      <td>Color</td>\n",
       "      <td>NaN</td>\n",
       "      <td>53.0</td>\n",
       "      <td>55.0</td>\n",
       "      <td>NaN</td>\n",
       "      <td>2.0</td>\n",
       "      <td>Olaf Lubaszenko</td>\n",
       "      <td>20.0</td>\n",
       "      <td>447093.0</td>\n",
       "      <td>Drama</td>\n",
       "      <td>...</td>\n",
       "      <td>37.0</td>\n",
       "      <td>Polish</td>\n",
       "      <td>Poland</td>\n",
       "      <td>TV-MA</td>\n",
       "      <td>NaN</td>\n",
       "      <td>NaN</td>\n",
       "      <td>3.0</td>\n",
       "      <td>9.1</td>\n",
       "      <td>1.33</td>\n",
       "      <td>0</td>\n",
       "    </tr>\n",
       "    <tr>\n",
       "      <th>3466</th>\n",
       "      <td>Color</td>\n",
       "      <td>Francis Ford Coppola</td>\n",
       "      <td>208.0</td>\n",
       "      <td>175.0</td>\n",
       "      <td>0.0</td>\n",
       "      <td>3000.0</td>\n",
       "      <td>Marlon Brando</td>\n",
       "      <td>14000.0</td>\n",
       "      <td>134821952.0</td>\n",
       "      <td>Crime|Drama</td>\n",
       "      <td>...</td>\n",
       "      <td>2238.0</td>\n",
       "      <td>English</td>\n",
       "      <td>USA</td>\n",
       "      <td>R</td>\n",
       "      <td>6000000.0</td>\n",
       "      <td>1972.0</td>\n",
       "      <td>10000.0</td>\n",
       "      <td>9.2</td>\n",
       "      <td>1.85</td>\n",
       "      <td>43000</td>\n",
       "    </tr>\n",
       "    <tr>\n",
       "      <th>4409</th>\n",
       "      <td>NaN</td>\n",
       "      <td>John Stockwell</td>\n",
       "      <td>2.0</td>\n",
       "      <td>90.0</td>\n",
       "      <td>134.0</td>\n",
       "      <td>354.0</td>\n",
       "      <td>T.J. Storm</td>\n",
       "      <td>260000.0</td>\n",
       "      <td>NaN</td>\n",
       "      <td>Action</td>\n",
       "      <td>...</td>\n",
       "      <td>1.0</td>\n",
       "      <td>NaN</td>\n",
       "      <td>USA</td>\n",
       "      <td>NaN</td>\n",
       "      <td>17000000.0</td>\n",
       "      <td>2016.0</td>\n",
       "      <td>454.0</td>\n",
       "      <td>9.1</td>\n",
       "      <td>NaN</td>\n",
       "      <td>0</td>\n",
       "    </tr>\n",
       "  </tbody>\n",
       "</table>\n",
       "<p>6 rows × 28 columns</p>\n",
       "</div>"
      ],
      "text/plain": [
       "      color         director_name  num_critic_for_reviews  duration  \\\n",
       "1937  Color        Frank Darabont                   199.0     142.0   \n",
       "2765  Color        John Blanchard                     NaN      65.0   \n",
       "2824  Color                   NaN                    53.0      55.0   \n",
       "3207  Color                   NaN                    53.0      55.0   \n",
       "3466  Color  Francis Ford Coppola                   208.0     175.0   \n",
       "4409    NaN        John Stockwell                     2.0      90.0   \n",
       "\n",
       "      director_facebook_likes  actor_3_facebook_likes     actor_2_name  \\\n",
       "1937                      0.0                   461.0   Jeffrey DeMunn   \n",
       "2765                      0.0                   176.0    Andrea Martin   \n",
       "2824                      NaN                     2.0  Olaf Lubaszenko   \n",
       "3207                      NaN                     2.0  Olaf Lubaszenko   \n",
       "3466                      0.0                  3000.0    Marlon Brando   \n",
       "4409                    134.0                   354.0       T.J. Storm   \n",
       "\n",
       "      actor_1_facebook_likes        gross       genres  ...  \\\n",
       "1937                 11000.0   28341469.0  Crime|Drama  ...   \n",
       "2765                   770.0          NaN       Comedy  ...   \n",
       "2824                    20.0     447093.0        Drama  ...   \n",
       "3207                    20.0     447093.0        Drama  ...   \n",
       "3466                 14000.0  134821952.0  Crime|Drama  ...   \n",
       "4409                260000.0          NaN       Action  ...   \n",
       "\n",
       "     num_user_for_reviews language  country  content_rating      budget  \\\n",
       "1937               4144.0  English      USA               R  25000000.0   \n",
       "2765                  NaN  English   Canada             NaN         NaN   \n",
       "2824                 37.0   Polish   Poland           TV-MA         NaN   \n",
       "3207                 37.0   Polish   Poland           TV-MA         NaN   \n",
       "3466               2238.0  English      USA               R   6000000.0   \n",
       "4409                  1.0      NaN      USA             NaN  17000000.0   \n",
       "\n",
       "      title_year actor_2_facebook_likes imdb_score  aspect_ratio  \\\n",
       "1937      1994.0                  745.0        9.3          1.85   \n",
       "2765         NaN                  179.0        9.5          1.33   \n",
       "2824         NaN                    3.0        9.1          1.33   \n",
       "3207         NaN                    3.0        9.1          1.33   \n",
       "3466      1972.0                10000.0        9.2          1.85   \n",
       "4409      2016.0                  454.0        9.1           NaN   \n",
       "\n",
       "     movie_facebook_likes  \n",
       "1937               108000  \n",
       "2765                    0  \n",
       "2824                    0  \n",
       "3207                    0  \n",
       "3466                43000  \n",
       "4409                    0  \n",
       "\n",
       "[6 rows x 28 columns]"
      ]
     },
     "execution_count": 56,
     "metadata": {},
     "output_type": "execute_result"
    }
   ],
   "source": [
    "print(table.imdb_score.describe())\n",
    "higher_than_9 = table[table['imdb_score'] > 9]\n",
    "higher_than_9"
   ]
  },
  {
   "cell_type": "code",
   "execution_count": 57,
   "metadata": {},
   "outputs": [
    {
     "data": {
      "image/png": "[encoded data removed]",
      "text/plain": [
       "<Figure size 432x288 with 1 Axes>"
      ]
     },
     "metadata": {
      "needs_background": "light"
     },
     "output_type": "display_data"
    }
   ],
   "source": [
    "table = table.dropna()\n",
    "\n",
    "x = table[['imdb_score']]\n",
    "y = table[['duration']]\n",
    "\n",
    "plt.xlabel('movie IMDB rating')\n",
    "plt.ylabel('movie length (minutes)')\n",
    "\n",
    "lm = linear_model.LinearRegression()\n",
    "lm.fit(x, y)\n",
    "\n",
    "\n",
    "pX = pd.DataFrame([1,2,3,4,5,6,7,8,9,10])\n",
    "\n",
    "\n",
    "plt.plot([1,2,3,4,5,6,7,8,9,10],lm.predict(pX),\n",
    "        marker='.', markerfacecolor='red', markersize=10, color = 'red')\n",
    "plt.xticks(np.arange(0, 11, 1.0))\n",
    "\n",
    "\n",
    "plt.scatter(x, y, s = .5)\n",
    "plt.show()"
   ]
  },
  {
   "cell_type": "code",
   "execution_count": null,
   "metadata": {},
   "outputs": [],
   "source": []
  },
  {
   "cell_type": "code",
   "execution_count": null,
   "metadata": {},
   "outputs": [],
   "source": []
  },
  {
   "cell_type": "markdown",
   "metadata": {
    "pycharm": {
     "name": "#%% md\n"
    }
   },
   "source": []
  },
  {
   "cell_type": "code",
   "execution_count": null,
   "metadata": {
    "pycharm": {
     "name": "#%%\n"
    }
   },
   "outputs": [],
   "source": []
  },
  {
   "cell_type": "code",
   "execution_count": null,
   "metadata": {},
   "outputs": [],
   "source": []
  },
  {
   "cell_type": "markdown",
   "metadata": {
    "pycharm": {
     "name": "#%%\n"
    }
   },
   "source": [
    "<h1> Featurevariabelen: </h1>\n",
    "\n",
    "    \n",
    "\n",
    "\n",
    "\n",
    "\n",
    "\n",
    "\n",
    "\n",
    "    "
   ]
  },
  {
   "cell_type": "markdown",
   "metadata": {
    "pycharm": {
     "name": "#%%\n"
    }
   },
   "source": [
    "num_voted_users: Discreet\n",
    "num_critic_for_reviews: Discreet\n",
    "num_user_for_reviews: Discreet\n",
    "budget: Continu\n",
    "imdb_score: Discreet\n",
    "movie_facebook_likes: Discreet\n",
    "gross: Continu\n",
    "    "
   ]
  },
  {
   "cell_type": "code",
   "execution_count": null,
   "metadata": {},
   "outputs": [],
   "source": []
  },
  {
   "cell_type": "code",
   "execution_count": null,
   "metadata": {
    "pycharm": {
     "name": "#%%\n"
    }
   },
   "outputs": [],
   "source": []
  },
  {
   "cell_type": "code",
   "execution_count": null,
   "metadata": {},
   "outputs": [],
   "source": [
    "\n",
    "    "
   ]
  },
  {
   "cell_type": "markdown",
   "metadata": {},
   "source": [
    "<h2> Correlation between columns and movie gross: </h2>"
   ]
  },
  {
   "cell_type": "code",
   "execution_count": 88,
   "metadata": {},
   "outputs": [
    {
     "name": "stdout",
     "output_type": "stream",
     "text": [
      "num_voted_users: 0.6249487454565548\n",
      "num_critic_for_reviews: 0.4641870340045625\n",
      "duration: 0.2457261977705955\n",
      "director_facebook_likes: 0.1383505899808125\n",
      "actor_3_facebook_likes: 0.29986381633000814\n",
      "actor_1_facebook_likes: 0.1440095703653353\n",
      "gross: 1.0\n",
      "num_user_for_reviews: 0.544673830198518\n",
      "budget: 0.099496423270246\n",
      "title_year: 0.05480795298930051\n",
      "actor_2_facebook_likes: 0.2528419264768792\n",
      "imdb_score: 0.21473971217602245\n",
      "aspect_ratio: 0.06394585497812032\n",
      "movie_facebook_likes: 0.3669326605067953\n"
     ]
    }
   ],
   "source": [
    "table = table.dropna()\n",
    "\n",
    "l = ['num_voted_users','num_critic_for_reviews', 'duration', 'director_facebook_likes', 'actor_3_facebook_likes', 'actor_1_facebook_likes', 'gross', 'num_user_for_reviews', 'budget', 'title_year', 'actor_2_facebook_likes', 'imdb_score', 'aspect_ratio', 'movie_facebook_likes']\n",
    "\n",
    "\n",
    "for col in l:\n",
    "    print(f\"{col}: {pearsonr(table[col], table.gross)[0]}\")\n"
   ]
  }
 ],
 "metadata": {
  "kernelspec": {
   "display_name": "Python 3 (ipykernel)",
   "language": "python",
   "name": "python3"
  },
  "language_info": {
   "codemirror_mode": {
    "name": "ipython",
    "version": 3
   },
   "file_extension": ".py",
   "mimetype": "text/x-python",
   "name": "python",
   "nbconvert_exporter": "python",
   "pygments_lexer": "ipython3",
   "version": "3.8.5"
  }
 },
 "nbformat": 4,
 "nbformat_minor": 1
}
